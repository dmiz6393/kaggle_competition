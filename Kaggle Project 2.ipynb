{
 "cells": [
  {
   "cell_type": "markdown",
   "metadata": {},
   "source": [
    "# Problem Statement"
   ]
  },
  {
   "cell_type": "markdown",
   "metadata": {},
   "source": [
    "An investor has approached my construction company; she thinks there is an opportunity in Ames, Iowa to buy,renovate and sell houses or buy land and build from scratch. He'd like to know what the biggest predictors are of higher valued houses, and if location matters. If there is an opportunity, she'd like to work with my construction company to begin the work together. \n",
    "\n",
    "Luckily, there is a data set that can help us answer these questions! The data dictionary used in this data analysis can be found here: http://jse.amstat.org/v19n3/decock/DataDocumentation.txt \n",
    "\n",
    "Our success can be validated if we are able to answer the following: \n",
    "1. Does location matter? \n",
    "2. What features correlated with higher selling houses? \n",
    "3. Where should we invest our time and money? On square footage? On overall quality? "
   ]
  },
  {
   "cell_type": "markdown",
   "metadata": {},
   "source": [
    "# Familiarity with data and data cleaning"
   ]
  },
  {
   "cell_type": "code",
   "execution_count": null,
   "metadata": {},
   "outputs": [],
   "source": [
    "import pandas as pd\n",
    "import numpy as np\n",
    "import seaborn as sns\n",
    "import matplotlib.pyplot as plt\n",
    "from sklearn.linear_model import LinearRegression, LassoCV, RidgeCV,Ridge, Lasso\n",
    "from sklearn.preprocessing import PolynomialFeatures, StandardScaler\n",
    "from sklearn.model_selection import train_test_split, cross_val_score, cross_val_predict\n",
    "from sklearn.metrics import r2_score\n",
    "from sklearn.metrics import mean_squared_error\n",
    "\n",
    "%matplotlib inline"
   ]
  },
  {
   "cell_type": "code",
   "execution_count": null,
   "metadata": {},
   "outputs": [],
   "source": [
    "pd.set_option('display.max_columns', 100)"
   ]
  },
  {
   "cell_type": "code",
   "execution_count": null,
   "metadata": {},
   "outputs": [],
   "source": [
    "filepath_train_data=\"./datasets/train.csv\"\n",
    "filepath_test_data=\"./datasets/test.csv\"\n",
    "\n",
    "df_train = pd.read_csv(filepath_train_data)\n",
    "df_test = pd.read_csv(filepath_test_data) "
   ]
  },
  {
   "cell_type": "code",
   "execution_count": null,
   "metadata": {},
   "outputs": [],
   "source": [
    "df_train.set_index(\"Id\",inplace=True)\n",
    "df_test.set_index(\"Id\",inplace=True)"
   ]
  },
  {
   "cell_type": "code",
   "execution_count": null,
   "metadata": {},
   "outputs": [],
   "source": [
    "df_train.shape"
   ]
  },
  {
   "cell_type": "code",
   "execution_count": null,
   "metadata": {},
   "outputs": [],
   "source": [
    "df_test.shape"
   ]
  },
  {
   "cell_type": "code",
   "execution_count": null,
   "metadata": {},
   "outputs": [],
   "source": [
    "df_train.info()"
   ]
  },
  {
   "cell_type": "code",
   "execution_count": null,
   "metadata": {},
   "outputs": [],
   "source": [
    "df_train.head()"
   ]
  },
  {
   "cell_type": "code",
   "execution_count": null,
   "metadata": {},
   "outputs": [],
   "source": [
    "df_train.describe()"
   ]
  },
  {
   "cell_type": "code",
   "execution_count": null,
   "metadata": {},
   "outputs": [],
   "source": [
    "df_test.info()"
   ]
  },
  {
   "cell_type": "code",
   "execution_count": null,
   "metadata": {},
   "outputs": [],
   "source": [
    "df_test.describe()"
   ]
  },
  {
   "cell_type": "code",
   "execution_count": null,
   "metadata": {},
   "outputs": [],
   "source": [
    "df_train.isnull().sum().sort_values(ascending=False)[:30]"
   ]
  },
  {
   "cell_type": "code",
   "execution_count": null,
   "metadata": {},
   "outputs": [],
   "source": [
    "df_test.isnull().sum().sort_values(ascending=False)[:30]"
   ]
  },
  {
   "cell_type": "markdown",
   "metadata": {},
   "source": [
    "Columns have NaN in them that aren't meant to be a number. \n",
    "\n",
    "The following should be NA from the data dictionary:\n",
    "\n",
    "- Alley (Nominal) \n",
    "- Bsmt Qual (Ordinal)\n",
    "- Bsmt Cond (Ordinal)\n",
    "- Bsmt Exposure\t(Ordinal)\n",
    "- BsmtFin Type 1\n",
    "- BsmtFinType 2\n",
    "- FireplaceQu\n",
    "- Garage Type (Nominal)\n",
    "- Garage Finish (Ordinal)\t\n",
    "- Garage Qual (Ordinal)\n",
    "- Garage Cond (Ordinal):\n",
    "- Pool QC (Ordinal):\n",
    "- Fence (Ordinal):\n",
    "- Misc Feature (Nominal)"
   ]
  },
  {
   "cell_type": "code",
   "execution_count": null,
   "metadata": {},
   "outputs": [],
   "source": [
    "cols_na= [\"Alley\",\"Bsmt Qual\",\"Bsmt Cond\",\"Bsmt Exposure\",\"BsmtFin Type 1\",\"BsmtFin Type 2\",\"Fireplace Qu\",\"Garage Type\",\"Garage Finish\",\"Garage Qual\",\"Garage Cond\",\"Pool QC\",\"Fence\",\"Misc Feature\"]\n",
    "\n",
    "[df_train[cols].fillna(\"NA\",inplace=True) for cols in cols_na]\n",
    "[df_test[cols].fillna(\"NA\",inplace=True) for cols in cols_na]"
   ]
  },
  {
   "cell_type": "code",
   "execution_count": null,
   "metadata": {},
   "outputs": [],
   "source": [
    "#Mas Vnr Type has None and NaN \n",
    "df_train[\"Mas Vnr Type\"].fillna(\"None\",inplace=True) \n",
    "df_test[\"Mas Vnr Type\"].fillna(\"None\",inplace=True)"
   ]
  },
  {
   "cell_type": "code",
   "execution_count": null,
   "metadata": {},
   "outputs": [],
   "source": [
    "#replace not a number with 0 \n",
    "df_train[\"Mas Vnr Area\"].fillna(0 ,inplace=True) \n",
    "df_test[\"Mas Vnr Area\"].fillna(0 ,inplace=True)"
   ]
  },
  {
   "cell_type": "markdown",
   "metadata": {},
   "source": [
    "We can use the median or mean for NaN values, there isn't a big difference between these numbers "
   ]
  },
  {
   "cell_type": "code",
   "execution_count": null,
   "metadata": {},
   "outputs": [],
   "source": [
    "df_train[\"Lot Frontage\"].median()"
   ]
  },
  {
   "cell_type": "code",
   "execution_count": null,
   "metadata": {},
   "outputs": [],
   "source": [
    "df_train[\"Lot Frontage\"].fillna(69.05520046484602 ,inplace=True) \n",
    "df_test[\"Lot Frontage\"].fillna(69.05520046484602 ,inplace=True)\n",
    "#mean and median are similar here"
   ]
  },
  {
   "cell_type": "code",
   "execution_count": null,
   "metadata": {},
   "outputs": [],
   "source": [
    "{final: df_train[final].isnull().sum() for final in df_train.columns if df_train[final].isnull().sum() > 0}"
   ]
  },
  {
   "cell_type": "code",
   "execution_count": null,
   "metadata": {},
   "outputs": [],
   "source": [
    "df_train[\"Garage Yr Blt\"].median()"
   ]
  },
  {
   "cell_type": "code",
   "execution_count": null,
   "metadata": {},
   "outputs": [],
   "source": [
    "df_train[\"Garage Yr Blt\"].fillna(1978.7077955601446 ,inplace=True) \n",
    "df_test[\"Garage Yr Blt\"].fillna(1978.7077955601446 ,inplace=True)\n",
    "#mean and median are similar here"
   ]
  },
  {
   "cell_type": "code",
   "execution_count": null,
   "metadata": {},
   "outputs": [],
   "source": [
    "{final: df_train[final].isnull().sum() for final in df_train.columns if df_train[final].isnull().sum() > 0}"
   ]
  },
  {
   "cell_type": "code",
   "execution_count": null,
   "metadata": {},
   "outputs": [],
   "source": [
    "#drop the rest of the null values here: only one or two of them \n",
    "df_train[\"BsmtFin SF 1\"].dropna(inplace=True) \n",
    "df_test[\"BsmtFin SF 1\"].dropna(inplace=True)"
   ]
  },
  {
   "cell_type": "code",
   "execution_count": null,
   "metadata": {},
   "outputs": [],
   "source": [
    "df_train[\"Bsmt Unf SF\"].dropna(inplace=True) \n",
    "df_test[\"Bsmt Unf SF\"].dropna(inplace=True)"
   ]
  },
  {
   "cell_type": "code",
   "execution_count": null,
   "metadata": {},
   "outputs": [],
   "source": [
    "df_train[\"BsmtFin SF 2\"].dropna(inplace=True) \n",
    "df_test[\"BsmtFin SF 2\"].dropna(inplace=True)"
   ]
  },
  {
   "cell_type": "code",
   "execution_count": null,
   "metadata": {},
   "outputs": [],
   "source": [
    "df_train[\"Total Bsmt SF\"].dropna(inplace=True) \n",
    "df_test[\"Total Bsmt SF\"].dropna(inplace=True)"
   ]
  },
  {
   "cell_type": "code",
   "execution_count": null,
   "metadata": {},
   "outputs": [],
   "source": [
    "df_train[\"Bsmt Full Bath\"].dropna(inplace=True) \n",
    "df_test[\"Bsmt Full Bath\"].dropna(inplace=True)"
   ]
  },
  {
   "cell_type": "code",
   "execution_count": null,
   "metadata": {},
   "outputs": [],
   "source": [
    "df_train[\"Bsmt Half Bath\"].dropna(inplace=True) \n",
    "df_test[\"Bsmt Half Bath\"].dropna(inplace=True)"
   ]
  },
  {
   "cell_type": "code",
   "execution_count": null,
   "metadata": {},
   "outputs": [],
   "source": [
    "df_train[\"Garage Cars\"].dropna(inplace=True) \n",
    "df_test[\"Garage Cars\"].dropna(inplace=True)"
   ]
  },
  {
   "cell_type": "code",
   "execution_count": null,
   "metadata": {},
   "outputs": [],
   "source": [
    "df_train[\"Garage Area\"].dropna(inplace=True) \n",
    "df_test[\"Garage Area\"].dropna(inplace=True)"
   ]
  },
  {
   "cell_type": "code",
   "execution_count": null,
   "metadata": {},
   "outputs": [],
   "source": [
    "{final: df_train[final].isnull().sum() for final in df_train.columns if df_train[final].isnull().sum() > 0}"
   ]
  },
  {
   "cell_type": "code",
   "execution_count": null,
   "metadata": {},
   "outputs": [],
   "source": [
    "{final: df_test[final].isnull().sum() for final in df_train.columns if df_train[final].isnull().sum() > 0}"
   ]
  },
  {
   "cell_type": "code",
   "execution_count": null,
   "metadata": {},
   "outputs": [],
   "source": [
    "#rename our colmns \n",
    "def clean(df):\n",
    "    df.columns=df.columns.str.lower().str.replace(\"/ \",\"_\").str.replace(\" \",\"_\")\n",
    "    return df "
   ]
  },
  {
   "cell_type": "code",
   "execution_count": null,
   "metadata": {},
   "outputs": [],
   "source": [
    "df_train=clean(df_train)"
   ]
  },
  {
   "cell_type": "code",
   "execution_count": null,
   "metadata": {},
   "outputs": [],
   "source": [
    "df_test=clean(df_test)"
   ]
  },
  {
   "cell_type": "code",
   "execution_count": null,
   "metadata": {},
   "outputs": [],
   "source": [
    "#I am converting ordinal columns here to check if they have an impact on saleprice \n",
    "conv_dict={'Ex':1.0,'Gd':2.0,'TA':3.0,'Fa':4.0,\"Po\":5.0,\"NA\":6.0}\n",
    "df_train[\"fireplace_qu\"]=df_train[\"fireplace_qu\"].apply(conv_dict.get)"
   ]
  },
  {
   "cell_type": "code",
   "execution_count": null,
   "metadata": {},
   "outputs": [],
   "source": [
    "conv_dict_garage={'Ex':1.0,'Gd':2.0,'TA':3.0,'Fa':4.0,\"Po\":5.0,\"NA\":6.0}\n",
    "df_train[\"garage_qual\"]=df_train[\"garage_qual\"].apply(conv_dict_garage.get)"
   ]
  },
  {
   "cell_type": "code",
   "execution_count": null,
   "metadata": {},
   "outputs": [],
   "source": [
    "df_test[\"garage_qual\"]=df_test[\"garage_qual\"].apply(conv_dict_garage.get)"
   ]
  },
  {
   "cell_type": "code",
   "execution_count": null,
   "metadata": {},
   "outputs": [],
   "source": [
    "df_test[\"fireplace_qu\"]=df_test[\"fireplace_qu\"].apply(conv_dict.get)"
   ]
  },
  {
   "cell_type": "code",
   "execution_count": null,
   "metadata": {},
   "outputs": [],
   "source": [
    "conv_dict_exter={'Ex':1.0,'Gd':2.0,'TA':3.0,'Fa':4.0,\"Po\":5.0}\n",
    "df_train[\"exter_qual\"]=df_train[\"exter_qual\"].apply(conv_dict_exter.get)"
   ]
  },
  {
   "cell_type": "code",
   "execution_count": null,
   "metadata": {},
   "outputs": [],
   "source": [
    "df_test[\"exter_qual\"]=df_test[\"exter_qual\"].apply(conv_dict_exter.get)"
   ]
  },
  {
   "cell_type": "code",
   "execution_count": null,
   "metadata": {},
   "outputs": [],
   "source": [
    "conv_dict_bsmt_qual={'Ex':1.0,'Gd':2.0,'TA':3.0,'Fa':4.0,\"Po\":5.0,\"NA\":6.0}\n",
    "df_train[\"bsmt_qual\"]=df_train[\"bsmt_qual\"].apply(conv_dict_bsmt_qual.get)"
   ]
  },
  {
   "cell_type": "code",
   "execution_count": null,
   "metadata": {},
   "outputs": [],
   "source": [
    "df_test[\"bsmt_qual\"]=df_test[\"bsmt_qual\"].apply(conv_dict_bsmt_qual.get)"
   ]
  },
  {
   "cell_type": "code",
   "execution_count": null,
   "metadata": {},
   "outputs": [],
   "source": [
    "conv_dict_electrical={'SBrkr':1.0,'FuseA':2.0,'FuseF':3.0,'FuseP':4.0,\"Mix\":5.0}\n",
    "df_train[\"electrical\"]=df_train[\"electrical\"].apply(conv_dict_electrical.get)"
   ]
  },
  {
   "cell_type": "code",
   "execution_count": null,
   "metadata": {},
   "outputs": [],
   "source": [
    "df_test[\"electrical\"]=df_test[\"electrical\"].apply(conv_dict_electrical.get)"
   ]
  },
  {
   "cell_type": "code",
   "execution_count": null,
   "metadata": {},
   "outputs": [],
   "source": [
    "conv_dict_functional={'Typ':1.0,'Min1':2.0,'Min2':3.0,'Mod':4.0,\"Maj1\":5.0,\"Maj2\":6.0,\"Sev\":7.0,\"Sal\":8.0}\n",
    "df_train[\"functional\"]=df_train[\"functional\"].apply(conv_dict_functional.get)"
   ]
  },
  {
   "cell_type": "code",
   "execution_count": null,
   "metadata": {},
   "outputs": [],
   "source": [
    "df_test[\"functional\"]=df_test[\"functional\"].apply(conv_dict_functional.get)"
   ]
  },
  {
   "cell_type": "code",
   "execution_count": null,
   "metadata": {},
   "outputs": [],
   "source": [
    "conv_dict_kitchen={'Ex':1.0,'Gd':2.0,'TA':3.0,'Fa':4.0,\"Po\":5.0}\n",
    "df_train[\"kitchen_qual\"]=df_train[\"kitchen_qual\"].apply(conv_dict_kitchen.get)"
   ]
  },
  {
   "cell_type": "code",
   "execution_count": null,
   "metadata": {},
   "outputs": [],
   "source": [
    "df_test[\"kitchen_qual\"]=df_test[\"kitchen_qual\"].apply(conv_dict_kitchen.get)"
   ]
  },
  {
   "cell_type": "markdown",
   "metadata": {},
   "source": [
    "# EDA"
   ]
  },
  {
   "cell_type": "code",
   "execution_count": null,
   "metadata": {},
   "outputs": [],
   "source": [
    "plt.figure(figsize=(10,20))\n",
    "sns.heatmap(df_train.corr()[[\"saleprice\"]].sort_values(by=\"saleprice\",ascending=False), annot=True)"
   ]
  },
  {
   "cell_type": "code",
   "execution_count": null,
   "metadata": {},
   "outputs": [],
   "source": [
    "fig,ax=plt.subplots()\n",
    "ax.scatter(x=df_train[\"overall_qual\"], y=df_train[\"saleprice\"])\n",
    "plt.ylabel('saleprice', fontsize=13)\n",
    "plt.xlabel('gr_liv_area', fontsize=13)\n",
    "plt.show()"
   ]
  },
  {
   "cell_type": "code",
   "execution_count": null,
   "metadata": {},
   "outputs": [],
   "source": [
    "plt.figure(figsize=(130,40))\n",
    "ax= sns.boxplot(df_train[\"overall_qual\"],df_train[\"saleprice\"])\n",
    "# We see an increase in sale price related to overall quality\n",
    "\n",
    "ax.set_title('Overall quality and saleprice', size = 80);\n",
    "ax.set_ylabel('saleprice', size = 80);\n",
    "ax.set_xlabel('overall quality', size = 80);"
   ]
  },
  {
   "cell_type": "code",
   "execution_count": null,
   "metadata": {},
   "outputs": [],
   "source": [
    "fig, ax = plt.subplots()\n",
    "ax.scatter(x = df_train['gr_liv_area'], y = df_train['saleprice'])\n",
    "plt.ylabel('saleprice', fontsize=13)\n",
    "plt.xlabel('gr_liv_area', fontsize=13)\n",
    "plt.show()\n",
    "# We see an increase in sale price related to above ground living area "
   ]
  },
  {
   "cell_type": "code",
   "execution_count": null,
   "metadata": {},
   "outputs": [],
   "source": [
    "df_train[(df_train[\"gr_liv_area\"]>4000)]"
   ]
  },
  {
   "cell_type": "code",
   "execution_count": null,
   "metadata": {},
   "outputs": [],
   "source": [
    "df_train=df_train.drop(df_train[(df_train[\"gr_liv_area\"]>4000)].index)\n",
    "#Get rid of outliers here "
   ]
  },
  {
   "cell_type": "code",
   "execution_count": null,
   "metadata": {},
   "outputs": [],
   "source": [
    "fig, ax = plt.subplots()\n",
    "ax.scatter(x = df_train['gr_liv_area'], y = df_train['saleprice'])\n",
    "plt.ylabel('saleprice', fontsize=13)\n",
    "plt.xlabel('gr_liv_area', fontsize=13)\n",
    "plt.show()\n",
    "#Visualize what this looks like without outliers "
   ]
  },
  {
   "cell_type": "code",
   "execution_count": null,
   "metadata": {},
   "outputs": [],
   "source": [
    "sns.distplot(df_train[\"saleprice\"])"
   ]
  },
  {
   "cell_type": "code",
   "execution_count": null,
   "metadata": {},
   "outputs": [],
   "source": [
    "{final: df_train[final].isnull().mean()*100 for final in df_train.columns if df_train[final].isnull().mean() > 0}"
   ]
  },
  {
   "cell_type": "code",
   "execution_count": null,
   "metadata": {},
   "outputs": [],
   "source": [
    "plt.figure(figsize=(100,30))\n",
    "ax= sns.barplot(x=df_train['neighborhood'],y=df_train['saleprice'])\n",
    "ax.set_title('Neighborhood by Saleprice', size = 50);\n",
    "ax.set_ylabel('Price', size = 50);\n",
    "ax.set_xlabel('Neighborhood', size = 50);"
   ]
  },
  {
   "cell_type": "code",
   "execution_count": null,
   "metadata": {},
   "outputs": [],
   "source": [
    "df_train.groupby(\"neighborhood\").mean()[\"saleprice\"].sort_values(ascending=False)\n",
    "#neighborhood has an impact on price\n",
    "# let's dummy this!\n",
    "#A true hypothesis test would be helpful here "
   ]
  },
  {
   "cell_type": "code",
   "execution_count": null,
   "metadata": {},
   "outputs": [],
   "source": [
    "plt.figure(figsize=(100,30))\n",
    "ax= sns.barplot(x=df_train['house_style'],y=df_train['saleprice'])\n",
    "ax.set_ylabel('Average Price', size = 20);\n",
    "ax.set_xlabel('House Style', size = 20);"
   ]
  },
  {
   "cell_type": "code",
   "execution_count": null,
   "metadata": {},
   "outputs": [],
   "source": [
    "sns.barplot(x=df_train[\"yr_sold\"],y=df_train['saleprice'])\n",
    "#year sold doesn't look like it has a huge impact"
   ]
  },
  {
   "cell_type": "code",
   "execution_count": null,
   "metadata": {},
   "outputs": [],
   "source": [
    "#check columns to see if there is a big difference in saleprice \n",
    "ax = df_train.groupby(\"house_style\")[\"saleprice\"].agg([np.mean]).sort_values(by=\"mean\", ascending=False).plot(kind = 'bar')\n",
    "ax.set_title('House Style by Saleprice', size = 0);\n",
    "ax.set_ylabel('Average Price', size = 20);\n",
    "ax.set_xlabel('House Style', size = 20);\n",
    "ax.tick_params(labelsize = 'large')"
   ]
  },
  {
   "cell_type": "code",
   "execution_count": null,
   "metadata": {},
   "outputs": [],
   "source": [
    "#check columns to see if there is a big difference in saleprice \n",
    "df_train.groupby(\"house_style\")[\"saleprice\"].agg([np.mean,np.std]).sort_values(by=\"mean\", ascending=False)"
   ]
  },
  {
   "cell_type": "markdown",
   "metadata": {},
   "source": [
    "Check columns to see if there is a big difference in saleprice \n",
    "This also checks the standard deviation "
   ]
  },
  {
   "cell_type": "code",
   "execution_count": null,
   "metadata": {},
   "outputs": [],
   "source": [
    "df_train.groupby(\"neighborhood\")[\"saleprice\"].agg([np.mean,np.std]).sort_values(by=\"mean\", ascending=False)"
   ]
  },
  {
   "cell_type": "code",
   "execution_count": null,
   "metadata": {},
   "outputs": [],
   "source": [
    "df_train.groupby(\"neighborhood\").mean()[\"saleprice\"].sort_values(ascending=False)"
   ]
  },
  {
   "cell_type": "code",
   "execution_count": null,
   "metadata": {},
   "outputs": [],
   "source": [
    "df_train.groupby(\"kitchen_qual\")[\"saleprice\"].agg([np.mean,np.std]).sort_values(by=\"mean\", ascending=False)"
   ]
  },
  {
   "cell_type": "code",
   "execution_count": null,
   "metadata": {},
   "outputs": [],
   "source": [
    "df_train.groupby(\"functional\")[\"saleprice\"].agg([np.mean,np.std]).sort_values(by=\"mean\", ascending=False)"
   ]
  },
  {
   "cell_type": "code",
   "execution_count": null,
   "metadata": {},
   "outputs": [],
   "source": [
    "df_train.groupby(\"misc_feature\")[\"saleprice\"].agg([np.mean,np.std]).sort_values(by=\"mean\", ascending=False)"
   ]
  },
  {
   "cell_type": "code",
   "execution_count": null,
   "metadata": {},
   "outputs": [],
   "source": [
    "df_train.groupby(\"fireplace_qu\")[\"saleprice\"].agg([np.mean,np.std,np.median]).sort_values(by=\"mean\", ascending=False)"
   ]
  },
  {
   "cell_type": "code",
   "execution_count": null,
   "metadata": {},
   "outputs": [],
   "source": [
    "df_train.dropna(inplace=True)\n",
    "#dropping the rest "
   ]
  },
  {
   "cell_type": "code",
   "execution_count": null,
   "metadata": {},
   "outputs": [],
   "source": [
    "#overall_cond\n",
    "fig, ax = plt.subplots()\n",
    "ax.scatter(x = df_train['overall_cond'], y = df_train['saleprice'])\n",
    "plt.ylabel('saleprice', fontsize=13)\n",
    "plt.xlabel('overall_cond', fontsize=13)\n",
    "plt.show()"
   ]
  },
  {
   "cell_type": "markdown",
   "metadata": {},
   "source": [
    "# Dummy Variables and Feature Engineering"
   ]
  },
  {
   "cell_type": "markdown",
   "metadata": {},
   "source": [
    "ID in data dictionary anything that has square feet \n",
    "I attempted to add square footage up here to see if this made a difference, and it didn't \n",
    "df_train[\"total_square_feet_below_ground\"]=  df_train[\"total_bsmt_sf\"] + df_train[\"1st_flr_sf\"] + df_train[\"2nd_flr_sf\"] + df_train[\"pool_area\"]+df_train[\"mas_vnr_area\"]+df_train[\"garage_area\"]+df_train[\"lot_area\"]+df_train[\"wood_deck_sf\"]+df_train[\"open_porch_sf\"]+df_train[\"enclosed_porch\"]+df_train[\"3ssn_porch\"]+df_train[\"screen_porch\"]"
   ]
  },
  {
   "cell_type": "markdown",
   "metadata": {},
   "source": [
    "df_train[\"over_all_qual_and_cond\"]= df_train[\"overall_qual\"] * df_train[\"overall_cond\"]\n",
    "attempted feature engineering with quality and condition, also did not have an impact"
   ]
  },
  {
   "cell_type": "code",
   "execution_count": null,
   "metadata": {},
   "outputs": [],
   "source": [
    "sns.distplot(df_train[\"year_built\"])"
   ]
  },
  {
   "cell_type": "code",
   "execution_count": null,
   "metadata": {},
   "outputs": [],
   "source": [
    "df_train[\"year_built\"].value_counts().sort_values(ascending=False)"
   ]
  },
  {
   "cell_type": "code",
   "execution_count": null,
   "metadata": {},
   "outputs": [],
   "source": [
    "df_train = pd.get_dummies(df_train, columns=['neighborhood'], drop_first=True)"
   ]
  },
  {
   "cell_type": "markdown",
   "metadata": {},
   "source": [
    "Since location is important after looking at the median and mean prices based off of neighborhood, dummy neighborhood! "
   ]
  },
  {
   "cell_type": "code",
   "execution_count": null,
   "metadata": {},
   "outputs": [],
   "source": [
    "df_test = pd.get_dummies(df_test, columns=['neighborhood'], drop_first=True)"
   ]
  },
  {
   "cell_type": "code",
   "execution_count": null,
   "metadata": {},
   "outputs": [],
   "source": [
    "df_train = pd.get_dummies(df_train, columns=['house_style'], drop_first=True)"
   ]
  },
  {
   "cell_type": "code",
   "execution_count": null,
   "metadata": {},
   "outputs": [],
   "source": [
    "neighborhoods_test= [column for column in df_test.columns if \"neighborhood\" in column ]"
   ]
  },
  {
   "cell_type": "code",
   "execution_count": null,
   "metadata": {},
   "outputs": [],
   "source": [
    "neighborhoods= [column for column in df_train.columns if \"neighborhood\" in column ]"
   ]
  },
  {
   "cell_type": "code",
   "execution_count": null,
   "metadata": {},
   "outputs": [],
   "source": [
    "df_test = pd.get_dummies(df_test, columns=['house_style'], drop_first=True)\n"
   ]
  },
  {
   "cell_type": "code",
   "execution_count": null,
   "metadata": {},
   "outputs": [],
   "source": [
    "df_test.head()"
   ]
  },
  {
   "cell_type": "code",
   "execution_count": null,
   "metadata": {},
   "outputs": [],
   "source": [
    "house_style_test= [column for column in df_train.columns if \"house_style\" in column ]\n",
    "#dummy house style to see if this makes a difference "
   ]
  },
  {
   "cell_type": "markdown",
   "metadata": {},
   "source": [
    "Iniitally I tried dummying central air, but did not think this told us much\n",
    "central_air_test= [column for column in df_train.columns if \"central_air\" in column ]"
   ]
  },
  {
   "cell_type": "markdown",
   "metadata": {},
   "source": [
    "df_train = pd.get_dummies(df_train, columns=['central_air'], drop_first=True)"
   ]
  },
  {
   "cell_type": "markdown",
   "metadata": {},
   "source": [
    "Time to reduce multicollinearity with polynomial features! "
   ]
  },
  {
   "cell_type": "markdown",
   "metadata": {},
   "source": [
    "## Polynomial Features"
   ]
  },
  {
   "cell_type": "code",
   "execution_count": null,
   "metadata": {},
   "outputs": [],
   "source": [
    "# Instantiate PolynomialFeatures object to create all two-way terms.\n",
    "features_to_poly= [\"totrms_abvgrd\",\"lot_frontage\",\"lot_area\",\"exter_qual\",\"bsmtfin_sf_1\",\"year_built\",\"total_bsmt_sf\",\"gr_liv_area\",\"garage_cars\",\"garage_area\",\"overall_qual\",\"overall_cond\",\"garage_qual\",\"kitchen_qual\",\"kitchen_abvgr\",\"full_bath\",\"year_remod/add\",\"fireplaces\",\"bsmt_qual\"] \n",
    "df_train2 = df_train[features_to_poly] \n",
    "\n",
    "polynomial_features = PolynomialFeatures(degree=2, interaction_only=False, include_bias=False)\n",
    "\n",
    "# Fit and transform our X data.\n",
    "poly_train = polynomial_features.fit_transform(df_train2)"
   ]
  },
  {
   "cell_type": "code",
   "execution_count": null,
   "metadata": {},
   "outputs": [],
   "source": [
    "df_train.columns"
   ]
  },
  {
   "cell_type": "code",
   "execution_count": null,
   "metadata": {},
   "outputs": [],
   "source": [
    "# Transform into a dataframe\n",
    "poly_train = pd.DataFrame(poly_train, columns = polynomial_features.get_feature_names(df_train2.columns), index=df_train2.index)\n",
    "poly_train.head()"
   ]
  },
  {
   "cell_type": "code",
   "execution_count": null,
   "metadata": {},
   "outputs": [],
   "source": [
    "# Instantiate PolynomialFeatures object to create all two-way terms.\n",
    "features_to_poly_test= [\"totrms_abvgrd\",\"lot_frontage\",\"lot_area\",\"exter_qual\",\"bsmtfin_sf_1\",\"year_built\",\"total_bsmt_sf\",\"gr_liv_area\",\"garage_cars\",\"garage_area\",\"overall_qual\",\"overall_cond\",\"garage_qual\",\"kitchen_qual\",\"kitchen_abvgr\",\"full_bath\",\"year_remod/add\",\"fireplaces\",\"bsmt_qual\"]\n",
    "df_test2 = df_test[features_to_poly_test] \n",
    "\n",
    "polynomial_features_test = PolynomialFeatures(degree=2, interaction_only=False, include_bias=False)\n",
    "\n",
    "# Fit and transform our X data.\n",
    "poly_test = polynomial_features_test.fit_transform(df_test2)"
   ]
  },
  {
   "cell_type": "code",
   "execution_count": null,
   "metadata": {},
   "outputs": [],
   "source": [
    "# Transform into a dataframe\n",
    "poly_test = pd.DataFrame(poly_test, columns = polynomial_features_test.get_feature_names(df_test2.columns), index=df_test2.index)"
   ]
  },
  {
   "cell_type": "code",
   "execution_count": null,
   "metadata": {},
   "outputs": [],
   "source": [
    "poly_test.head()"
   ]
  },
  {
   "cell_type": "code",
   "execution_count": null,
   "metadata": {},
   "outputs": [],
   "source": [
    "poly_train['saleprice'] = df_train['saleprice']"
   ]
  },
  {
   "cell_type": "code",
   "execution_count": null,
   "metadata": {},
   "outputs": [],
   "source": [
    "poly_train.corr()[[\"saleprice\"]].sort_values(by=\"saleprice\",ascending=False)[60:95]"
   ]
  },
  {
   "cell_type": "code",
   "execution_count": null,
   "metadata": {},
   "outputs": [],
   "source": [
    "poly_train.corr()[[\"saleprice\"]].sort_values(by=\"saleprice\",ascending=False)[-25:]"
   ]
  },
  {
   "cell_type": "code",
   "execution_count": null,
   "metadata": {},
   "outputs": [],
   "source": [
    "plt.figure(figsize=(35,55))\n",
    "sns.heatmap(poly_train.corr()[[\"saleprice\"]].sort_values(by=\"saleprice\",ascending=False), annot=True)\n"
   ]
  },
  {
   "cell_type": "code",
   "execution_count": null,
   "metadata": {},
   "outputs": [],
   "source": [
    "# list comprehension to get all columns regarding neighborhood\n",
    "neighborhoods= [col for col in df_train.columns if col.find('neighborhood') != -1]\n",
    "# for each column in above list\n",
    "for col in neighborhoods:\n",
    "    # add those columns from df_train to poly_train\n",
    "    poly_train[col] = df_train[col]\n",
    "poly_train.columns"
   ]
  },
  {
   "cell_type": "code",
   "execution_count": null,
   "metadata": {},
   "outputs": [],
   "source": [
    "# list comprehension to get all columns regarding neighborhood\n",
    "house_style = [col for col in df_train.columns if col.find('house_style') != -1]\n",
    "# for each column in above list\n",
    "for col in house_style:\n",
    "    # add those columns from df_train to poly_train\n",
    "    poly_train[col] = df_train[col]\n",
    "poly_train.columns"
   ]
  },
  {
   "cell_type": "code",
   "execution_count": null,
   "metadata": {},
   "outputs": [],
   "source": [
    "# list comprehension to get all columns regarding neighborhood\n",
    "neighborhoods= [col for col in df_test.columns if col.find('neighborhood') != -1]\n",
    "# for each column in above list\n",
    "for col in neighborhoods:\n",
    "    # add those columns from df_train to poly_train\n",
    "    poly_test[col] = df_test[col]\n",
    "poly_test.columns"
   ]
  },
  {
   "cell_type": "code",
   "execution_count": null,
   "metadata": {},
   "outputs": [],
   "source": [
    "# list comprehension to get all columns regarding neighborhood\n",
    "house_style = [col for col in df_test.columns if col.find('house_style') != -1]\n",
    "# for each column in above list\n",
    "for col in house_style:\n",
    "    # add those columns from df_train to poly_train\n",
    "    poly_test[col] = df_test[col]\n",
    "poly_test.columns"
   ]
  },
  {
   "cell_type": "code",
   "execution_count": null,
   "metadata": {},
   "outputs": [],
   "source": [
    "new_features_corr=[ \n",
    "\"gr_liv_area overall_qual\",\n",
    "\"overall_qual^2\",\n",
    "\"total_bsmt_sf overall_qual\",\n",
    "\"garage_area overall_qual\",\n",
    "\"garage_cars overall_qual\",\n",
    "\"total_bsmt_sf gr_liv_area\",\n",
    "\"year_built overall_qual\",\n",
    "\"totrms_abvgrd overall_qual\",\n",
    "\"overall_qual year_remod/add\",\n",
    "\"gr_liv_area garage_area\",\n",
    "\"gr_liv_area garage_cars\",\n",
    "\"overall_qual\",\n",
    "\"total_bsmt_sf garage_cars\",\n",
    "\"total_bsmt_sf garage_area\",\n",
    "\"overall_qual full_bath\",\n",
    "\"totrms_abvgrd total_bsmt_sf\",\n",
    "\"garage_area full_bath\",\n",
    "\"year_built gr_liv_area\",\n",
    "\"total_bsmt_sf full_bath\",\n",
    "\"totrms_abvgrd garage_area\",\n",
    "\"gr_liv_area year_remod/add\",\n",
    "\"totrms_abvgrd garage_cars\",\n",
    "\"gr_liv_area\",\n",
    "\"lot_frontage overall_qual\",\n",
    "\"garage_cars full_bath\",\n",
    "\"gr_liv_area^2\",\n",
    "\"gr_liv_area full_bath\",\n",
    "\"garage_cars garage_area\",\n",
    "\"total_bsmt_sf^2\",\n",
    "\"year_built total_bsmt_sf\",\n",
    "\"total_bsmt_sf year_remod/add\",\n",
    "\"total_bsmt_sf\",\n",
    "\"year_built garage_area\",\n",
    "\"lot_frontage gr_liv_area\",\n",
    "\"garage_cars^2\",\n",
    "\"garage_area year_remod/add\",\n",
    "\"lot_frontage total_bsmt_sf\",\n",
    "\"year_built garage_cars\",\n",
    "\"garage_cars year_remod/add\",\n",
    "\"garage_area^2\",\n",
    "\"garage_area\",\n",
    "\"garage_area fireplaces\",\n",
    "\"totrms_abvgrd gr_liv_area\",\n",
    "\"garage_cars\",\n",
    "\"lot_frontage garage_cars\",\n",
    "\"lot_frontage garage_area\",\n",
    "\"garage_cars fireplaces\",\n",
    "\"total_bsmt_sf fireplaces\",\n",
    "\"garage_area garage_qual\",\n",
    "\"overall_qual kitchen_abvgr\",\n",
    "\"year_built year_remod/add\",\n",
    "\"overall_qual fireplaces\",\n",
    "\"bsmtfin_sf_1 gr_liv_area\",\n",
    "\"garage_cars garage_qual\",\n",
    "\"gr_liv_area fireplaces\",\n",
    "\"totrms_abvgrd full_bath\",\n",
    "\"lot_frontage full_bath\",\n",
    "\"total_bsmt_sf overall_cond\",\n",
    "\"bsmtfin_sf_1 garage_area\",\n",
    "\"bsmtfin_sf_1 garage_cars\",\n",
    "\"bsmtfin_sf_1 overall_qual\",\n",
    "\"full_bath fireplaces\",\n",
    "\"year_built^2\",\n",
    "\"gr_liv_area overall_cond\",\n",
    "\"garage_cars overall_cond\",\n",
    "\"year_built\",\n",
    "\"bsmtfin_sf_1 total_bsmt_sf\",\n",
    "\"garage_area overall_cond\",\n",
    "\"overall_qual overall_cond\",\n",
    "\"lot_area overall_qual\",\n",
    "\"bsmtfin_sf_1 full_bath\",\n",
    "\"totrms_abvgrd fireplaces\",\n",
    "\"year_built full_bath\",\n",
    "\"year_remod/add^2\",\n",
    "\"year_remod/add\",\n",
    "\"totrms_abvgrd bsmtfin_sf_1\",\n",
    "\"full_bath year_remod/add\",\n",
    "\"totrms_abvgrd year_built\",\n",
    "\"garage_area kitchen_abvgr\",\n",
    "\"full_bath\",\n",
    "\"lot_area garage_area\",\n",
    "\"lot_area garage_cars\",\n",
    "\"full_bath^2\",\n",
    "\"bsmtfin_sf_1 fireplaces\",\n",
    "\"bsmtfin_sf_1^2\",\n",
    "\"totrms_abvgrd year_remod/add\",\n",
    "\"totrms_abvgrd lot_frontage\",\n",
    "\"lot_frontage fireplaces\",\n",
    "\"total_bsmt_sf kitchen_abvgr\",\n",
    "\"overall_qual garage_qual\",\n",
    "\"lot_area total_bsmt_sf\",\n",
    "\"totrms_abvgrd\",\n",
    "\"lot_area gr_liv_area\",\n",
    "\"total_bsmt_sf garage_qual\",\n",
    "\"bsmt_qual^2\",\n",
    "\"overall_cond bsmt_qual\",\n",
    "\"exter_qual overall_cond\",\n",
    "\"exter_qual kitchen_abvgr\",\n",
    "\"kitchen_qual kitchen_abvgr\",\n",
    "\"overall_cond kitchen_qual\",\n",
    "\"garage_qual bsmt_qual\",\n",
    "\"exter_qual garage_qual\",\n",
    "\"garage_qual kitchen_qual\",\n",
    "\"year_built bsmt_qual\",\n",
    "\"year_remod/add bsmt_qual\",\n",
    "\"bsmt_qual\",\n",
    "\"kitchen_qual^2\",\n",
    "\"kitchen_qual bsmt_qual\",\n",
    "\"exter_qual bsmt_qual\",\n",
    "\"year_built kitchen_qual\",\n",
    "\"exter_qual^2\",\n",
    "\"kitchen_qual year_remod/add\",\n",
    "\"kitchen_qual\",\n",
    "\"exter_qual year_built\",\n",
    "\"exter_qual year_remod/add\",\n",
    "\"exter_qual\",\n",
    "\"exter_qual kitchen_qual\",'neighborhood_Blueste', 'neighborhood_BrDale', 'neighborhood_BrkSide',\n",
    "       'neighborhood_ClearCr', 'neighborhood_CollgCr', 'neighborhood_Crawfor',\n",
    "       'neighborhood_Edwards', 'neighborhood_Gilbert', 'neighborhood_Greens', 'neighborhood_IDOTRR',\n",
    "       'neighborhood_MeadowV', 'neighborhood_Mitchel', 'neighborhood_NAmes',\n",
    "       'neighborhood_NPkVill', 'neighborhood_NWAmes', 'neighborhood_NoRidge',\n",
    "       'neighborhood_NridgHt', 'neighborhood_OldTown', 'neighborhood_SWISU',\n",
    "       'neighborhood_Sawyer', 'neighborhood_SawyerW', 'neighborhood_Somerst',\n",
    "       'neighborhood_StoneBr', 'neighborhood_Timber', 'neighborhood_Veenker',\n",
    "       'house_style_1.5Unf', 'house_style_1Story', 'house_style_2.5Fin',\n",
    "       'house_style_2.5Unf', 'house_style_2Story', 'house_style_SFoyer',\n",
    "       'house_style_SLvl'\n",
    "]"
   ]
  },
  {
   "cell_type": "code",
   "execution_count": null,
   "metadata": {},
   "outputs": [],
   "source": [
    "len(features_for_corr) "
   ]
  },
  {
   "cell_type": "markdown",
   "metadata": {},
   "source": [
    "# Modeling"
   ]
  },
  {
   "cell_type": "markdown",
   "metadata": {},
   "source": [
    "Linear Regression: Initially, I used the linear regression model here, this data (for the most part) follows the MLR assumptions, and we are predicting a continuous outcome (saleprice) as well as impact of features on saleprice. In order to prevent our data from being overfit, I've also used Lasso and Ridge. There isn't a significant difference between the scores. \n",
    "\n",
    "**From regression lab\n",
    "\n",
    "SLR AND MLR:\n",
    "\n",
    "- Linearity: Y must have an approximately linear relationship with each independent X_i.\n",
    "- Independence: Errors (residuals) e_i and e_j must be independent of one another for any i != j.\n",
    "- Normality: The errors (residuals) follow a Normal distribution.\n",
    "- Equality of Variances: The errors (residuals) should have a roughly consistent pattern, regardless of the value of the X_i. (There should be no discernable relationship between X_1 and the residuals.)\n",
    "\n",
    "MLR ONLY:\n",
    "- Independence Part 2: The independent variables X_i and X_j must be independent of one another for any i != j\n",
    "\n",
    "Potential downfalls of this model are that it could be too simplistic - there are many factors that go into the sale price of a house that this model might not take into account, such as the economy. We also risk being overfit - not understanding what is truly important to the saleprice of the house.  "
   ]
  },
  {
   "cell_type": "code",
   "execution_count": null,
   "metadata": {},
   "outputs": [],
   "source": [
    "X = poly_train[new_features_corr]\n",
    "y = poly_train[\"saleprice\"]\n",
    "#Did not train-test-split because we want to train our model with the most data we can -- advice from Matt during class. "
   ]
  },
  {
   "cell_type": "code",
   "execution_count": null,
   "metadata": {},
   "outputs": [],
   "source": [
    "lr=LinearRegression()"
   ]
  },
  {
   "cell_type": "code",
   "execution_count": null,
   "metadata": {},
   "outputs": [],
   "source": [
    "cross_val_score(lr,X,y,cv=5).mean()"
   ]
  },
  {
   "cell_type": "code",
   "execution_count": null,
   "metadata": {},
   "outputs": [],
   "source": [
    "lr.fit(X,y)"
   ]
  },
  {
   "cell_type": "code",
   "execution_count": null,
   "metadata": {},
   "outputs": [],
   "source": [
    "lr.score(X,y)"
   ]
  },
  {
   "cell_type": "code",
   "execution_count": null,
   "metadata": {},
   "outputs": [],
   "source": [
    "def r2_adj(X,y): \n",
    "    lr= LinearRegression()\n",
    "    model=lr.fit(X,y)\n",
    "    r_squared=model.score(X,y)\n",
    "    adjusted_r2_formula= 1 - (1 - r_squared)*(len(y)-1)/(len(y)-X.shape[1]-1)\n",
    "    print(adjusted_r2_formula)"
   ]
  },
  {
   "cell_type": "code",
   "execution_count": null,
   "metadata": {},
   "outputs": [],
   "source": [
    "r2_adj(X,y)\n",
    "#look at adjusted r2 as well to make sure we aren't including any \"noise\""
   ]
  },
  {
   "cell_type": "code",
   "execution_count": null,
   "metadata": {},
   "outputs": [],
   "source": [
    "df_train.shape"
   ]
  },
  {
   "cell_type": "markdown",
   "metadata": {},
   "source": [
    "# Using Standard Scalar and Lasso "
   ]
  },
  {
   "cell_type": "code",
   "execution_count": null,
   "metadata": {},
   "outputs": [],
   "source": [
    "#Use Lasso or Ridge to prevent data being overfit"
   ]
  },
  {
   "cell_type": "code",
   "execution_count": null,
   "metadata": {},
   "outputs": [],
   "source": [
    "ss = StandardScaler()\n",
    "X_train_ss = ss.fit_transform(X)"
   ]
  },
  {
   "cell_type": "code",
   "execution_count": null,
   "metadata": {},
   "outputs": [],
   "source": [
    "r_alphas = np.logspace(0, 5, 100)\n",
    "\n",
    "lasso_model = LassoCV(alphas=r_alphas, cv=5, max_iter=5000)"
   ]
  },
  {
   "cell_type": "code",
   "execution_count": null,
   "metadata": {},
   "outputs": [],
   "source": [
    "X.shape"
   ]
  },
  {
   "cell_type": "code",
   "execution_count": null,
   "metadata": {},
   "outputs": [],
   "source": [
    "lasso_model = lasso_model.fit(X, y)"
   ]
  },
  {
   "cell_type": "code",
   "execution_count": null,
   "metadata": {},
   "outputs": [],
   "source": [
    "lasso_model.alpha_"
   ]
  },
  {
   "cell_type": "code",
   "execution_count": null,
   "metadata": {},
   "outputs": [],
   "source": [
    "print(lasso_model.score(X, y))\n",
    "#not a significant difference in score between this and linear regression"
   ]
  },
  {
   "cell_type": "markdown",
   "metadata": {},
   "source": [
    "# Using Ridge"
   ]
  },
  {
   "cell_type": "code",
   "execution_count": null,
   "metadata": {},
   "outputs": [],
   "source": [
    "# Instantiate.\n",
    "ridge_model = Ridge(alpha=10)\n",
    "\n",
    "# Fit.\n",
    "ridge_model.fit(X, y)\n",
    "\n",
    "# Evaluate model using R2.\n",
    "print(ridge_model.score(X, y))\n",
    "#not a significant difference in score between this and linear regression"
   ]
  },
  {
   "cell_type": "markdown",
   "metadata": {},
   "source": [
    "# Kaggle Submission"
   ]
  },
  {
   "cell_type": "code",
   "execution_count": null,
   "metadata": {},
   "outputs": [],
   "source": [
    "X_kaggle = poly_test[new_features_corr]"
   ]
  },
  {
   "cell_type": "code",
   "execution_count": null,
   "metadata": {},
   "outputs": [],
   "source": [
    "X_kaggle['saleprice'] = lasso_model.predict(X_kaggle)\n",
    "X_kaggle.head()"
   ]
  },
  {
   "cell_type": "code",
   "execution_count": null,
   "metadata": {},
   "outputs": [],
   "source": [
    "output = X_kaggle[['saleprice']]\n",
    "output.head()"
   ]
  },
  {
   "cell_type": "code",
   "execution_count": null,
   "metadata": {},
   "outputs": [],
   "source": [
    "# Saving our predictions to our datasets folder\n",
    "output.to_csv(\"./datasets/my_first_submission.csv\")"
   ]
  },
  {
   "cell_type": "markdown",
   "metadata": {},
   "source": [
    "# Conclusion"
   ]
  },
  {
   "cell_type": "markdown",
   "metadata": {},
   "source": [
    "From the data, it seems like there is potential for us to make a profit off of buying, renovating and selling houses in Ames Iowa. I believe the investor was right in coming to me and my team with this opportunity. \n",
    "\n",
    "The features that seemed to have the most impact on saleprice throughout the data are: \n",
    "\n",
    "- The square footage living area above ground and below ground (house style I believe fits in with this as well, since it contributes to the size of the house)\n",
    "- The overall quality and condition \n",
    "- Garage area and cars \n",
    "- The year remod/add \n",
    "- The neighborhood\n",
    "\n",
    "Negatively effected prices: \n",
    "- Low kitchen quality and basement quality\n",
    "\n",
    "I believe we can be profitable if we focus our attention on: \n",
    "\n",
    "- Buying houses that are big/ have higher square footage in neighborhoods where houses are higher valued in general\n",
    "- Renovate house so we can have a high rank in quality and condition \n",
    "- Ensure garage quality is up to par, and if house does not have a garage, build a garage that can fit at least two cars for it \n",
    "\n",
    "For further investigation, we would need to do some hypothesis testing. I am going to continue to feature engineer to see if we've missed any important features that, when put together, impact price. I'd also like to experiment with cleaning the data differently - perhaps using the mean scores for some rows wasn't the best approach. I would also add the above ground square footage and below ground square footage to get the total square footage and add this as a potential feauture in my model. "
   ]
  },
  {
   "cell_type": "markdown",
   "metadata": {},
   "source": [
    " We were limited in valuable information such as average age of neighborhoods (investopedia predicted that this was an important factor in sales price). It would have also been better to obtain a dataset with more concise information"
   ]
  }
 ],
 "metadata": {
  "kernelspec": {
   "display_name": "Python 3",
   "language": "python",
   "name": "python3"
  },
  "language_info": {
   "codemirror_mode": {
    "name": "ipython",
    "version": 3
   },
   "file_extension": ".py",
   "mimetype": "text/x-python",
   "name": "python",
   "nbconvert_exporter": "python",
   "pygments_lexer": "ipython3",
   "version": "3.7.4"
  },
  "toc": {
   "base_numbering": 1,
   "nav_menu": {},
   "number_sections": true,
   "sideBar": true,
   "skip_h1_title": false,
   "title_cell": "Table of Contents",
   "title_sidebar": "Contents",
   "toc_cell": false,
   "toc_position": {},
   "toc_section_display": true,
   "toc_window_display": true
  }
 },
 "nbformat": 4,
 "nbformat_minor": 2
}
